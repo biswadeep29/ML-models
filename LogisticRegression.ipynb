{
 "cells": [
  {
   "cell_type": "code",
   "execution_count": 1,
   "id": "34445713-9377-4d71-b903-02780faa64f4",
   "metadata": {},
   "outputs": [],
   "source": [
    "import matplotlib.pyplot as plt\n",
    "import numpy as np\n",
    "import pandas as pd"
   ]
  },
  {
   "cell_type": "code",
   "execution_count": 2,
   "id": "b8dfebf3-1c88-4356-9d5b-dc48782c56a1",
   "metadata": {},
   "outputs": [],
   "source": [
    "wetdf = pd.read_csv('weatherAUS.csv')"
   ]
  },
  {
   "cell_type": "code",
   "execution_count": 3,
   "id": "b7584411-425e-44a9-aa22-72bc43727d80",
   "metadata": {},
   "outputs": [
    {
     "data": {
      "text/html": [
       "<div>\n",
       "<style scoped>\n",
       "    .dataframe tbody tr th:only-of-type {\n",
       "        vertical-align: middle;\n",
       "    }\n",
       "\n",
       "    .dataframe tbody tr th {\n",
       "        vertical-align: top;\n",
       "    }\n",
       "\n",
       "    .dataframe thead th {\n",
       "        text-align: right;\n",
       "    }\n",
       "</style>\n",
       "<table border=\"1\" class=\"dataframe\">\n",
       "  <thead>\n",
       "    <tr style=\"text-align: right;\">\n",
       "      <th></th>\n",
       "      <th>Date</th>\n",
       "      <th>Location</th>\n",
       "      <th>MinTemp</th>\n",
       "      <th>MaxTemp</th>\n",
       "      <th>Rainfall</th>\n",
       "      <th>Evaporation</th>\n",
       "      <th>Sunshine</th>\n",
       "      <th>WindGustDir</th>\n",
       "      <th>WindGustSpeed</th>\n",
       "      <th>WindDir9am</th>\n",
       "      <th>...</th>\n",
       "      <th>Humidity9am</th>\n",
       "      <th>Humidity3pm</th>\n",
       "      <th>Pressure9am</th>\n",
       "      <th>Pressure3pm</th>\n",
       "      <th>Cloud9am</th>\n",
       "      <th>Cloud3pm</th>\n",
       "      <th>Temp9am</th>\n",
       "      <th>Temp3pm</th>\n",
       "      <th>RainToday</th>\n",
       "      <th>RainTomorrow</th>\n",
       "    </tr>\n",
       "  </thead>\n",
       "  <tbody>\n",
       "    <tr>\n",
       "      <th>0</th>\n",
       "      <td>2008-12-01</td>\n",
       "      <td>Albury</td>\n",
       "      <td>13.4</td>\n",
       "      <td>22.9</td>\n",
       "      <td>0.6</td>\n",
       "      <td>NaN</td>\n",
       "      <td>NaN</td>\n",
       "      <td>W</td>\n",
       "      <td>44.0</td>\n",
       "      <td>W</td>\n",
       "      <td>...</td>\n",
       "      <td>71.0</td>\n",
       "      <td>22.0</td>\n",
       "      <td>1007.7</td>\n",
       "      <td>1007.1</td>\n",
       "      <td>8.0</td>\n",
       "      <td>NaN</td>\n",
       "      <td>16.9</td>\n",
       "      <td>21.8</td>\n",
       "      <td>No</td>\n",
       "      <td>No</td>\n",
       "    </tr>\n",
       "    <tr>\n",
       "      <th>1</th>\n",
       "      <td>2008-12-02</td>\n",
       "      <td>Albury</td>\n",
       "      <td>7.4</td>\n",
       "      <td>25.1</td>\n",
       "      <td>0.0</td>\n",
       "      <td>NaN</td>\n",
       "      <td>NaN</td>\n",
       "      <td>WNW</td>\n",
       "      <td>44.0</td>\n",
       "      <td>NNW</td>\n",
       "      <td>...</td>\n",
       "      <td>44.0</td>\n",
       "      <td>25.0</td>\n",
       "      <td>1010.6</td>\n",
       "      <td>1007.8</td>\n",
       "      <td>NaN</td>\n",
       "      <td>NaN</td>\n",
       "      <td>17.2</td>\n",
       "      <td>24.3</td>\n",
       "      <td>No</td>\n",
       "      <td>No</td>\n",
       "    </tr>\n",
       "    <tr>\n",
       "      <th>2</th>\n",
       "      <td>2008-12-03</td>\n",
       "      <td>Albury</td>\n",
       "      <td>12.9</td>\n",
       "      <td>25.7</td>\n",
       "      <td>0.0</td>\n",
       "      <td>NaN</td>\n",
       "      <td>NaN</td>\n",
       "      <td>WSW</td>\n",
       "      <td>46.0</td>\n",
       "      <td>W</td>\n",
       "      <td>...</td>\n",
       "      <td>38.0</td>\n",
       "      <td>30.0</td>\n",
       "      <td>1007.6</td>\n",
       "      <td>1008.7</td>\n",
       "      <td>NaN</td>\n",
       "      <td>2.0</td>\n",
       "      <td>21.0</td>\n",
       "      <td>23.2</td>\n",
       "      <td>No</td>\n",
       "      <td>No</td>\n",
       "    </tr>\n",
       "    <tr>\n",
       "      <th>3</th>\n",
       "      <td>2008-12-04</td>\n",
       "      <td>Albury</td>\n",
       "      <td>9.2</td>\n",
       "      <td>28.0</td>\n",
       "      <td>0.0</td>\n",
       "      <td>NaN</td>\n",
       "      <td>NaN</td>\n",
       "      <td>NE</td>\n",
       "      <td>24.0</td>\n",
       "      <td>SE</td>\n",
       "      <td>...</td>\n",
       "      <td>45.0</td>\n",
       "      <td>16.0</td>\n",
       "      <td>1017.6</td>\n",
       "      <td>1012.8</td>\n",
       "      <td>NaN</td>\n",
       "      <td>NaN</td>\n",
       "      <td>18.1</td>\n",
       "      <td>26.5</td>\n",
       "      <td>No</td>\n",
       "      <td>No</td>\n",
       "    </tr>\n",
       "    <tr>\n",
       "      <th>4</th>\n",
       "      <td>2008-12-05</td>\n",
       "      <td>Albury</td>\n",
       "      <td>17.5</td>\n",
       "      <td>32.3</td>\n",
       "      <td>1.0</td>\n",
       "      <td>NaN</td>\n",
       "      <td>NaN</td>\n",
       "      <td>W</td>\n",
       "      <td>41.0</td>\n",
       "      <td>ENE</td>\n",
       "      <td>...</td>\n",
       "      <td>82.0</td>\n",
       "      <td>33.0</td>\n",
       "      <td>1010.8</td>\n",
       "      <td>1006.0</td>\n",
       "      <td>7.0</td>\n",
       "      <td>8.0</td>\n",
       "      <td>17.8</td>\n",
       "      <td>29.7</td>\n",
       "      <td>No</td>\n",
       "      <td>No</td>\n",
       "    </tr>\n",
       "  </tbody>\n",
       "</table>\n",
       "<p>5 rows × 23 columns</p>\n",
       "</div>"
      ],
      "text/plain": [
       "         Date Location  MinTemp  MaxTemp  Rainfall  Evaporation  Sunshine  \\\n",
       "0  2008-12-01   Albury     13.4     22.9       0.6          NaN       NaN   \n",
       "1  2008-12-02   Albury      7.4     25.1       0.0          NaN       NaN   \n",
       "2  2008-12-03   Albury     12.9     25.7       0.0          NaN       NaN   \n",
       "3  2008-12-04   Albury      9.2     28.0       0.0          NaN       NaN   \n",
       "4  2008-12-05   Albury     17.5     32.3       1.0          NaN       NaN   \n",
       "\n",
       "  WindGustDir  WindGustSpeed WindDir9am  ... Humidity9am  Humidity3pm  \\\n",
       "0           W           44.0          W  ...        71.0         22.0   \n",
       "1         WNW           44.0        NNW  ...        44.0         25.0   \n",
       "2         WSW           46.0          W  ...        38.0         30.0   \n",
       "3          NE           24.0         SE  ...        45.0         16.0   \n",
       "4           W           41.0        ENE  ...        82.0         33.0   \n",
       "\n",
       "   Pressure9am  Pressure3pm  Cloud9am  Cloud3pm  Temp9am  Temp3pm  RainToday  \\\n",
       "0       1007.7       1007.1       8.0       NaN     16.9     21.8         No   \n",
       "1       1010.6       1007.8       NaN       NaN     17.2     24.3         No   \n",
       "2       1007.6       1008.7       NaN       2.0     21.0     23.2         No   \n",
       "3       1017.6       1012.8       NaN       NaN     18.1     26.5         No   \n",
       "4       1010.8       1006.0       7.0       8.0     17.8     29.7         No   \n",
       "\n",
       "   RainTomorrow  \n",
       "0            No  \n",
       "1            No  \n",
       "2            No  \n",
       "3            No  \n",
       "4            No  \n",
       "\n",
       "[5 rows x 23 columns]"
      ]
     },
     "execution_count": 3,
     "metadata": {},
     "output_type": "execute_result"
    }
   ],
   "source": [
    "wetdf.head()"
   ]
  },
  {
   "cell_type": "code",
   "execution_count": 4,
   "id": "b8ceab16-8599-469f-9dd3-86556626096f",
   "metadata": {},
   "outputs": [
    {
     "data": {
      "text/plain": [
       "Date             145460\n",
       "Location         145460\n",
       "MinTemp          143975\n",
       "MaxTemp          144199\n",
       "Rainfall         142199\n",
       "Evaporation       82670\n",
       "Sunshine          75625\n",
       "WindGustDir      135134\n",
       "WindGustSpeed    135197\n",
       "WindDir9am       134894\n",
       "WindDir3pm       141232\n",
       "WindSpeed9am     143693\n",
       "WindSpeed3pm     142398\n",
       "Humidity9am      142806\n",
       "Humidity3pm      140953\n",
       "Pressure9am      130395\n",
       "Pressure3pm      130432\n",
       "Cloud9am          89572\n",
       "Cloud3pm          86102\n",
       "Temp9am          143693\n",
       "Temp3pm          141851\n",
       "RainToday        142199\n",
       "RainTomorrow     142193\n",
       "dtype: int64"
      ]
     },
     "execution_count": 4,
     "metadata": {},
     "output_type": "execute_result"
    }
   ],
   "source": [
    "wetdf.count()"
   ]
  },
  {
   "cell_type": "code",
   "execution_count": 5,
   "id": "4a311ab4-6cda-49f7-b58f-2ddc370be94f",
   "metadata": {},
   "outputs": [],
   "source": [
    "wetdf.dropna(subset=['RainToday','RainTomorrow'],inplace = True)"
   ]
  },
  {
   "cell_type": "code",
   "execution_count": 6,
   "id": "a8aa0ae4-f645-4c2d-a509-a472f56ce4cf",
   "metadata": {},
   "outputs": [],
   "source": [
    "from sklearn.model_selection import train_test_split"
   ]
  },
  {
   "cell_type": "code",
   "execution_count": 7,
   "id": "0f808cc4-0ad8-44b8-bf21-7c308a68ded8",
   "metadata": {},
   "outputs": [],
   "source": [
    "train_df,test_df = train_test_split(wetdf,test_size = 0.2, random_state = 42)"
   ]
  },
  {
   "cell_type": "code",
   "execution_count": 8,
   "id": "108c3f12-81c9-4576-93e2-11f782492e7f",
   "metadata": {},
   "outputs": [],
   "source": [
    "train_df,val_df = train_test_split(wetdf,test_size = 0.25, random_state = 42)"
   ]
  },
  {
   "cell_type": "code",
   "execution_count": 9,
   "id": "0d5b18e2-9155-4ba5-82e2-f4733ac3a04b",
   "metadata": {},
   "outputs": [
    {
     "name": "stdout",
     "output_type": "stream",
     "text": [
      "train_df.shape : (105590, 23)\n",
      "val_df.shape : (35197, 23)\n",
      "test_df.shape : (28158, 23)\n"
     ]
    }
   ],
   "source": [
    "print('train_df.shape :', train_df.shape)\n",
    "print('val_df.shape :', val_df.shape)\n",
    "print('test_df.shape :', test_df.shape)"
   ]
  },
  {
   "cell_type": "code",
   "execution_count": 10,
   "id": "8862ac2c-a480-4484-b891-6cb88639aac3",
   "metadata": {},
   "outputs": [],
   "source": [
    "input_cols = list(train_df.columns)[1:-1]\n",
    "target_cols = 'RainTomorrow'\n",
    "train_input = train_df[input_cols].copy()\n",
    "train_target = train_df[target_cols].copy()\n",
    "val_input = val_df[input_cols].copy()\n",
    "val_target = val_df[target_cols].copy()\n",
    "test_input = test_df[input_cols].copy()\n",
    "test_target = test_df[target_cols].copy()"
   ]
  },
  {
   "cell_type": "code",
   "execution_count": 11,
   "id": "6991bd33-cc00-4384-ba62-39ce3c1c1548",
   "metadata": {},
   "outputs": [],
   "source": [
    "numeric_cols = train_input.select_dtypes(include=np.number).columns.tolist()[:-1]\n",
    "categorical_cols = train_input.select_dtypes(include='object').columns.tolist()"
   ]
  },
  {
   "cell_type": "code",
   "execution_count": 12,
   "id": "ca8ab1fd-c25b-4fbd-8575-366d2fef406a",
   "metadata": {},
   "outputs": [],
   "source": [
    "from sklearn.impute import SimpleImputer\n",
    "imputer = SimpleImputer(strategy = 'mean').fit(wetdf[numeric_cols])\n",
    "train_input[numeric_cols] = imputer.transform(train_input[numeric_cols])\n",
    "val_input[numeric_cols] = imputer.transform(val_input[numeric_cols])\n",
    "test_input[numeric_cols] = imputer.transform(test_input[numeric_cols])"
   ]
  },
  {
   "cell_type": "code",
   "execution_count": 13,
   "id": "ca7eee7e-cb05-4512-b939-1e5a2f92af2e",
   "metadata": {},
   "outputs": [],
   "source": [
    "from sklearn.preprocessing import MinMaxScaler\n",
    "scaler = MinMaxScaler().fit(wetdf[numeric_cols])\n",
    "train_input[numeric_cols] = scaler.transform(train_input[numeric_cols])\n",
    "val_input[numeric_cols] = scaler.transform(val_input[numeric_cols])\n",
    "test_input[numeric_cols] = scaler.transform(test_input[numeric_cols])"
   ]
  },
  {
   "cell_type": "code",
   "execution_count": 14,
   "id": "1ab0f1a2-7268-4f82-97f8-eef254d2b7da",
   "metadata": {},
   "outputs": [],
   "source": [
    "import warnings\n",
    "warnings.filterwarnings(\"ignore\", category=pd.errors.PerformanceWarning)\n",
    "\n",
    "from sklearn.preprocessing import OneHotEncoder\n",
    "encoder = OneHotEncoder(sparse_output=False, handle_unknown='ignore').fit(wetdf[categorical_cols])\n",
    "encoded_cols = list(encoder.get_feature_names_out(categorical_cols))\n",
    "train_input[encoded_cols] = encoder.transform(train_input[categorical_cols])\n",
    "val_input[encoded_cols] = encoder.transform(val_input[categorical_cols])\n",
    "test_input[encoded_cols] = encoder.transform(test_input[categorical_cols])"
   ]
  },
  {
   "cell_type": "code",
   "execution_count": 15,
   "id": "6134c1f5-d9cf-4702-8516-ccfaa3681f30",
   "metadata": {},
   "outputs": [],
   "source": [
    "from sklearn.linear_model import LogisticRegression\n",
    "from sklearn.metrics import accuracy_score"
   ]
  },
  {
   "cell_type": "code",
   "execution_count": 16,
   "id": "6ed7c112-4d51-42c0-abaf-8beb8740f36f",
   "metadata": {},
   "outputs": [],
   "source": [
    "for_train = train_input[numeric_cols + encoded_cols]\n",
    "for_val = val_input[numeric_cols + encoded_cols]\n",
    "for_test = test_input[numeric_cols + encoded_cols]"
   ]
  },
  {
   "cell_type": "code",
   "execution_count": 17,
   "id": "518009e5-9840-482f-9a46-893cff2b5186",
   "metadata": {},
   "outputs": [],
   "source": [
    "model = LogisticRegression(solver = 'liblinear').fit(for_train,train_target)"
   ]
  },
  {
   "cell_type": "code",
   "execution_count": 18,
   "id": "6e1fdf79-914a-436e-ae6e-8dbe951082c9",
   "metadata": {},
   "outputs": [
    {
     "data": {
      "text/plain": [
       "array(['No', 'No', 'No', ..., 'No', 'No', 'Yes'], dtype=object)"
      ]
     },
     "execution_count": 18,
     "metadata": {},
     "output_type": "execute_result"
    }
   ],
   "source": [
    "pred = model.predict(for_train)\n",
    "pred"
   ]
  },
  {
   "cell_type": "code",
   "execution_count": 19,
   "id": "296fc49c-0799-4328-ba40-960cc124a8ce",
   "metadata": {},
   "outputs": [
    {
     "data": {
      "text/plain": [
       "array([[0.95805068, 0.04194932],\n",
       "       [0.84471686, 0.15528314],\n",
       "       [0.96528823, 0.03471177],\n",
       "       ...,\n",
       "       [0.97822177, 0.02177823],\n",
       "       [0.99241155, 0.00758845],\n",
       "       [0.42515804, 0.57484196]])"
      ]
     },
     "execution_count": 19,
     "metadata": {},
     "output_type": "execute_result"
    }
   ],
   "source": [
    "prob = model.predict_proba(for_train)\n",
    "prob"
   ]
  },
  {
   "cell_type": "code",
   "execution_count": 20,
   "id": "988b08c9-6554-4485-8aca-d7ce0daeab20",
   "metadata": {},
   "outputs": [
    {
     "data": {
      "text/plain": [
       "0.851472677336869"
      ]
     },
     "execution_count": 20,
     "metadata": {},
     "output_type": "execute_result"
    }
   ],
   "source": [
    "acc = accuracy_score(train_target,pred)\n",
    "acc"
   ]
  },
  {
   "cell_type": "code",
   "execution_count": 21,
   "id": "b9aa3bfb-edec-461d-bde4-f202b68d09ea",
   "metadata": {},
   "outputs": [],
   "source": [
    "# Helper function to predict, compute accuracy\n",
    "def predict(inputs,target):\n",
    "    pred = model.predict(inputs)\n",
    "    acc = accuracy_score(target,pred)\n",
    "    print(f\"Accuracy is {acc*100} %\")"
   ]
  },
  {
   "cell_type": "code",
   "execution_count": 22,
   "id": "d14c413d-a5f0-4cc1-be4a-214d9fb93e09",
   "metadata": {},
   "outputs": [
    {
     "name": "stdout",
     "output_type": "stream",
     "text": [
      "Accuracy is 84.78279398812398 %\n"
     ]
    }
   ],
   "source": [
    "val_preds = predict(for_val, val_target)"
   ]
  },
  {
   "cell_type": "code",
   "execution_count": 23,
   "id": "426f9928-7be1-474a-b3a5-fddc0e51c0a7",
   "metadata": {},
   "outputs": [
    {
     "name": "stdout",
     "output_type": "stream",
     "text": [
      "Accuracy is 84.71482349598693 %\n"
     ]
    }
   ],
   "source": [
    "test_preds = predict(for_test,test_target)"
   ]
  },
  {
   "cell_type": "code",
   "execution_count": 24,
   "id": "b4df1e07-a524-4f49-928a-a52d8ba6aeae",
   "metadata": {},
   "outputs": [],
   "source": [
    "def random_guess(inputs):\n",
    "    return np.random.choice([\"Yes\",\"No\"],len(inputs))"
   ]
  },
  {
   "cell_type": "code",
   "execution_count": 25,
   "id": "98d41bca-8cdc-49e5-b5dc-107b7f90c73f",
   "metadata": {},
   "outputs": [],
   "source": [
    "def all_no(inputs):\n",
    "    return np.full(len(inputs), \"No\")"
   ]
  },
  {
   "cell_type": "code",
   "execution_count": 26,
   "id": "e43828f8-34a0-4a72-87a3-e1748966415d",
   "metadata": {},
   "outputs": [],
   "source": [
    "def all_yes(inputs):\n",
    "    return np.full(len(inputs), \"Yes\")"
   ]
  },
  {
   "cell_type": "code",
   "execution_count": 27,
   "id": "6e096e75-b16b-48f7-9cd6-f036569ce343",
   "metadata": {},
   "outputs": [
    {
     "name": "stdout",
     "output_type": "stream",
     "text": [
      "Accuracy is 49.68037502663542 %\n"
     ]
    }
   ],
   "source": [
    "preds = predict(for_test,random_guess(for_test))"
   ]
  },
  {
   "cell_type": "code",
   "execution_count": 28,
   "id": "7bdc7c67-31b7-40ed-93f5-763cb4b6dd38",
   "metadata": {},
   "outputs": [
    {
     "name": "stdout",
     "output_type": "stream",
     "text": [
      "Accuracy is 84.62603878116343 %\n"
     ]
    }
   ],
   "source": [
    "preds = predict(for_test,all_no(for_test))"
   ]
  },
  {
   "cell_type": "code",
   "execution_count": 29,
   "id": "898335ad-6642-4472-9ecb-8aed213fde42",
   "metadata": {},
   "outputs": [
    {
     "name": "stdout",
     "output_type": "stream",
     "text": [
      "Accuracy is 15.373961218836566 %\n"
     ]
    }
   ],
   "source": [
    "preds = predict(for_test,all_yes(for_test))"
   ]
  },
  {
   "cell_type": "code",
   "execution_count": 30,
   "id": "db025a19-0d1a-4dc2-aab8-de0239b4fc2e",
   "metadata": {},
   "outputs": [],
   "source": [
    "def predict_input(single_input):\n",
    "    input_df = pd.DataFrame([single_input])\n",
    "    input_df[numeric_cols] = imputer.transform(input_df[numeric_cols])\n",
    "    input_df[numeric_cols] = scaler.transform(input_df[numeric_cols])\n",
    "    input_df[encoded_cols] = encoder.transform(input_df[categorical_cols])\n",
    "    for_input = input_df[numeric_cols+encoded_cols]\n",
    "    pred = model.predict(for_input)[0]\n",
    "    prob = model.predict_proba(for_input)[0] #[list(model.classes_).index(pred)]\n",
    "    return pred, prob"
   ]
  },
  {
   "cell_type": "code",
   "execution_count": 31,
   "id": "6b30ae00-ba62-4c60-8995-e56b87e290a6",
   "metadata": {},
   "outputs": [
    {
     "data": {
      "text/plain": [
       "('Yes', array([0.13691803, 0.86308197]))"
      ]
     },
     "execution_count": 31,
     "metadata": {},
     "output_type": "execute_result"
    }
   ],
   "source": [
    "new_input = {'Date': '2021-06-19',\n",
    "             'Location': 'Launceston',\n",
    "             'MinTemp': 23.2,\n",
    "             'MaxTemp': 20,\n",
    "             'Rainfall': 20,\n",
    "             'Evaporation': 4.2,\n",
    "             'Sunshine': np.nan,\n",
    "             'WindGustDir': 'NNW',\n",
    "             'WindGustSpeed': 66,\n",
    "             'WindDir9am': 'NW',\n",
    "             'WindDir3pm': 'NNE',\n",
    "             'WindSpeed9am': 13.0,\n",
    "             'WindSpeed3pm': 20.0,\n",
    "             'Humidity9am': 89.0,\n",
    "             'Humidity3pm': 58.0,\n",
    "             'Pressure9am': 1004.8,\n",
    "             'Pressure3pm': 1001.5,\n",
    "             'Cloud9am': 8.0,\n",
    "             'Cloud3pm': 5.0,\n",
    "             'Temp9am': 25.7,\n",
    "             'Temp3pm': 33.0,\n",
    "             'RainToday': 'Yes'}\n",
    "predict_input(new_input)"
   ]
  },
  {
   "cell_type": "code",
   "execution_count": null,
   "id": "cbc1863a-978e-4431-be9d-01860350a808",
   "metadata": {},
   "outputs": [],
   "source": []
  }
 ],
 "metadata": {
  "kernelspec": {
   "display_name": "Python 3 (ipykernel)",
   "language": "python",
   "name": "python3"
  },
  "language_info": {
   "codemirror_mode": {
    "name": "ipython",
    "version": 3
   },
   "file_extension": ".py",
   "mimetype": "text/x-python",
   "name": "python",
   "nbconvert_exporter": "python",
   "pygments_lexer": "ipython3",
   "version": "3.12.4"
  }
 },
 "nbformat": 4,
 "nbformat_minor": 5
}
